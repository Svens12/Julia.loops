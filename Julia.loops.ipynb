{
 "cells": [
  {
   "cell_type": "code",
   "execution_count": 5,
   "id": "9ae72069",
   "metadata": {},
   "outputs": [
    {
     "name": "stdout",
     "output_type": "stream",
     "text": [
      "AdidasNikePuma"
     ]
    }
   ],
   "source": [
    "for i in [\"Adidas\", \"Nike\", \"Puma\"]\n",
    "    print(i)\n",
    "end"
   ]
  },
  {
   "cell_type": "code",
   "execution_count": 6,
   "id": "06ef6af9",
   "metadata": {},
   "outputs": [
    {
     "name": "stdout",
     "output_type": "stream",
     "text": [
      "Adidas\n",
      "Nike\n",
      "Puma\n"
     ]
    }
   ],
   "source": [
    "for i in [\"Adidas\", \"Nike\", \"Puma\"]\n",
    "    println(i)\n",
    "end"
   ]
  },
  {
   "cell_type": "code",
   "execution_count": 7,
   "id": "396c68f9",
   "metadata": {},
   "outputs": [
    {
     "name": "stdout",
     "output_type": "stream",
     "text": [
      "A\n",
      "d\n",
      "i\n",
      "d\n",
      "a\n",
      "s\n"
     ]
    }
   ],
   "source": [
    "for i in \"Adidas\"\n",
    "    println(i)\n",
    "end"
   ]
  },
  {
   "cell_type": "code",
   "execution_count": 8,
   "id": "6082e39a",
   "metadata": {},
   "outputs": [
    {
     "name": "stdout",
     "output_type": "stream",
     "text": [
      "1\n",
      "2\n",
      "3\n",
      "4\n",
      "5\n"
     ]
    }
   ],
   "source": [
    "for t in (1,2,3,4,5)\n",
    "    println(t)\n",
    "end    "
   ]
  },
  {
   "cell_type": "code",
   "execution_count": 9,
   "id": "97332ec2",
   "metadata": {},
   "outputs": [
    {
     "name": "stdout",
     "output_type": "stream",
     "text": [
      ":C2 => 2000 :C1 => 1000 "
     ]
    }
   ],
   "source": [
    "for d in Dict(:C1=>1000, :C2=>2000)\n",
    "    print(d, \" \")\n",
    "end    "
   ]
  },
  {
   "cell_type": "code",
   "execution_count": 10,
   "id": "a3e0cae8",
   "metadata": {},
   "outputs": [
    {
     "data": {
      "text/plain": [
       "Dict{Symbol, Int64} with 2 entries:\n",
       "  :C2 => 2000\n",
       "  :C1 => 1000"
      ]
     },
     "execution_count": 10,
     "metadata": {},
     "output_type": "execute_result"
    }
   ],
   "source": [
    "d1=Dict(:C1=>1000, :C2=>2000)"
   ]
  },
  {
   "cell_type": "code",
   "execution_count": 11,
   "id": "1f810a24",
   "metadata": {},
   "outputs": [
    {
     "name": "stdout",
     "output_type": "stream",
     "text": [
      ":C2 => 2000 :C1 => 1000 "
     ]
    }
   ],
   "source": [
    "for d in d1\n",
    "    print(d, \" \")\n",
    "end    "
   ]
  },
  {
   "cell_type": "code",
   "execution_count": 14,
   "id": "510f72fe",
   "metadata": {},
   "outputs": [
    {
     "name": "stdout",
     "output_type": "stream",
     "text": [
      "54231"
     ]
    }
   ],
   "source": [
    "for s in Set([1,2,3,4,5])\n",
    "    print(s)\n",
    "end    "
   ]
  },
  {
   "cell_type": "code",
   "execution_count": 15,
   "id": "1f419a72",
   "metadata": {},
   "outputs": [
    {
     "name": "stdout",
     "output_type": "stream",
     "text": [
      "1 2 3 4 5 "
     ]
    }
   ],
   "source": [
    "for range in 1:5\n",
    "    print(range, \" \")\n",
    "end    "
   ]
  },
  {
   "cell_type": "code",
   "execution_count": 16,
   "id": "621fa5ca",
   "metadata": {},
   "outputs": [
    {
     "name": "stdout",
     "output_type": "stream",
     "text": [
      "range = 1\n",
      "range = 2\n",
      "range = 3\n",
      "range = 4\n",
      "range = 5\n"
     ]
    }
   ],
   "source": [
    "for range in 1:5\n",
    "    @show range\n",
    "end    "
   ]
  },
  {
   "cell_type": "code",
   "execution_count": 17,
   "id": "f24389c2",
   "metadata": {},
   "outputs": [
    {
     "name": "stdout",
     "output_type": "stream",
     "text": [
      "246810"
     ]
    }
   ],
   "source": [
    "for x in 1:10\n",
    "    if x % 2==0\n",
    "        print(x)\n",
    "    end\n",
    "end    "
   ]
  },
  {
   "cell_type": "code",
   "execution_count": 18,
   "id": "9ccd6d34",
   "metadata": {},
   "outputs": [
    {
     "name": "stdout",
     "output_type": "stream",
     "text": [
      "10 is multiplication between 1 and 10\n",
      "10 is multiplication between 2 and 10\n",
      "10 is multiplication between 3 and 10\n",
      "10 is multiplication between 4 and 10\n",
      "10 is multiplication between 5 and 10\n",
      "10 is multiplication between 6 and 10\n",
      "10 is multiplication between 7 and 10\n",
      "10 is multiplication between 8 and 10\n",
      "10 is multiplication between 9 and 10\n",
      "10 is multiplication between 10 and 10\n"
     ]
    }
   ],
   "source": [
    "for i in 1:10\n",
    "    j=1*10\n",
    "    println(\"$(j) is multiplication between $(i) and 10\")\n",
    "end    "
   ]
  },
  {
   "cell_type": "code",
   "execution_count": 19,
   "id": "cb3cd0b8",
   "metadata": {},
   "outputs": [
    {
     "name": "stdout",
     "output_type": "stream",
     "text": [
      "1\n",
      "3\n",
      "5\n",
      "7\n",
      "9\n"
     ]
    }
   ],
   "source": [
    "for i in 1:10\n",
    "    if i%2==0\n",
    "        continue\n",
    "    end\n",
    "    println(i)\n",
    "end    "
   ]
  },
  {
   "cell_type": "code",
   "execution_count": 20,
   "id": "de5beb85",
   "metadata": {},
   "outputs": [
    {
     "data": {
      "text/plain": [
       "1"
      ]
     },
     "execution_count": 20,
     "metadata": {},
     "output_type": "execute_result"
    }
   ],
   "source": [
    "a=1"
   ]
  },
  {
   "cell_type": "code",
   "execution_count": 21,
   "id": "dc704e6b",
   "metadata": {},
   "outputs": [
    {
     "name": "stdout",
     "output_type": "stream",
     "text": [
      "1\n",
      "2\n",
      "3\n",
      "4\n",
      "5\n",
      "6\n",
      "7\n",
      "8\n",
      "9\n"
     ]
    }
   ],
   "source": [
    "while a<10\n",
    "    println(a)\n",
    "    a+=1\n",
    "end    "
   ]
  },
  {
   "cell_type": "code",
   "execution_count": null,
   "id": "3a198bb4",
   "metadata": {},
   "outputs": [],
   "source": []
  }
 ],
 "metadata": {
  "kernelspec": {
   "display_name": "Julia 1.8.3",
   "language": "julia",
   "name": "julia-1.8"
  },
  "language_info": {
   "file_extension": ".jl",
   "mimetype": "application/julia",
   "name": "julia",
   "version": "1.8.3"
  }
 },
 "nbformat": 4,
 "nbformat_minor": 5
}
